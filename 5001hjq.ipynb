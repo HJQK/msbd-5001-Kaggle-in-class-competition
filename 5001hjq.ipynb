{
 "cells": [
  {
   "cell_type": "code",
   "execution_count": 68,
   "metadata": {},
   "outputs": [
    {
     "output_type": "stream",
     "name": "stdout",
     "text": [
      "                id         speed\ncount  14006.00000  14006.000000\nmean    7002.50000     32.779118\nstd     4043.32827     13.573813\nmin        0.00000      2.573417\n25%     3501.25000     19.301089\n50%     7002.50000     36.580595\n75%    10503.75000     45.877665\nmax    14005.00000     53.161286\n   id                date      speed\n0   0 2017-01-01 00:00:00  43.002930\n1   1 2017-01-01 01:00:00  46.118696\n2   2 2017-01-01 02:00:00  44.294158\n3   3 2017-01-01 03:00:00  41.067468\n4   4 2017-01-01 04:00:00  46.448653\n"
     ]
    }
   ],
   "source": [
    "### training data Preprocess\n",
    "import pandas as pd\n",
    "import datetime as date\n",
    "import numpy as np\n",
    "TrainData = pd.read_csv('D:/.BDT/5001/msbd5001-fall2020/train.csv', parse_dates = ['date'], dayfirst= True)\n",
    "print(TrainData.describe())\n",
    "print(TrainData.head())"
   ]
  },
  {
   "cell_type": "code",
   "execution_count": 69,
   "metadata": {},
   "outputs": [
    {
     "output_type": "execute_result",
     "data": {
      "text/plain": [
       "      id                date      speed  year  month  day  hour  is_sunday  \\\n",
       "0      0 2017-01-01 00:00:00  43.002930  2017      1    1     0          1   \n",
       "1      1 2017-01-01 01:00:00  46.118696  2017      1    1     1          1   \n",
       "2      2 2017-01-01 02:00:00  44.294158  2017      1    1     2          1   \n",
       "3      3 2017-01-01 03:00:00  41.067468  2017      1    1     3          1   \n",
       "4      4 2017-01-01 04:00:00  46.448653  2017      1    1     4          1   \n",
       "..   ...                 ...        ...   ...    ...  ...   ...        ...   \n",
       "155  155 2017-01-07 11:00:00  13.308467  2017      1    7    11          0   \n",
       "156  156 2017-01-07 12:00:00  19.686580  2017      1    7    12          0   \n",
       "157  157 2017-01-07 13:00:00  17.374724  2017      1    7    13          0   \n",
       "158  158 2017-01-07 14:00:00  26.702782  2017      1    7    14          0   \n",
       "159  159 2017-01-07 15:00:00  17.665740  2017      1    7    15          0   \n",
       "\n",
       "     dayofweek       tmp  is_holiday  \n",
       "0            7  20170101           1  \n",
       "1            7  20170101           1  \n",
       "2            7  20170101           1  \n",
       "3            7  20170101           1  \n",
       "4            7  20170101           1  \n",
       "..         ...       ...         ...  \n",
       "155          6  20170107           0  \n",
       "156          6  20170107           0  \n",
       "157          6  20170107           0  \n",
       "158          6  20170107           0  \n",
       "159          6  20170107           0  \n",
       "\n",
       "[160 rows x 11 columns]"
      ],
      "text/html": "<div>\n<style scoped>\n    .dataframe tbody tr th:only-of-type {\n        vertical-align: middle;\n    }\n\n    .dataframe tbody tr th {\n        vertical-align: top;\n    }\n\n    .dataframe thead th {\n        text-align: right;\n    }\n</style>\n<table border=\"1\" class=\"dataframe\">\n  <thead>\n    <tr style=\"text-align: right;\">\n      <th></th>\n      <th>id</th>\n      <th>date</th>\n      <th>speed</th>\n      <th>year</th>\n      <th>month</th>\n      <th>day</th>\n      <th>hour</th>\n      <th>is_sunday</th>\n      <th>dayofweek</th>\n      <th>tmp</th>\n      <th>is_holiday</th>\n    </tr>\n  </thead>\n  <tbody>\n    <tr>\n      <th>0</th>\n      <td>0</td>\n      <td>2017-01-01 00:00:00</td>\n      <td>43.002930</td>\n      <td>2017</td>\n      <td>1</td>\n      <td>1</td>\n      <td>0</td>\n      <td>1</td>\n      <td>7</td>\n      <td>20170101</td>\n      <td>1</td>\n    </tr>\n    <tr>\n      <th>1</th>\n      <td>1</td>\n      <td>2017-01-01 01:00:00</td>\n      <td>46.118696</td>\n      <td>2017</td>\n      <td>1</td>\n      <td>1</td>\n      <td>1</td>\n      <td>1</td>\n      <td>7</td>\n      <td>20170101</td>\n      <td>1</td>\n    </tr>\n    <tr>\n      <th>2</th>\n      <td>2</td>\n      <td>2017-01-01 02:00:00</td>\n      <td>44.294158</td>\n      <td>2017</td>\n      <td>1</td>\n      <td>1</td>\n      <td>2</td>\n      <td>1</td>\n      <td>7</td>\n      <td>20170101</td>\n      <td>1</td>\n    </tr>\n    <tr>\n      <th>3</th>\n      <td>3</td>\n      <td>2017-01-01 03:00:00</td>\n      <td>41.067468</td>\n      <td>2017</td>\n      <td>1</td>\n      <td>1</td>\n      <td>3</td>\n      <td>1</td>\n      <td>7</td>\n      <td>20170101</td>\n      <td>1</td>\n    </tr>\n    <tr>\n      <th>4</th>\n      <td>4</td>\n      <td>2017-01-01 04:00:00</td>\n      <td>46.448653</td>\n      <td>2017</td>\n      <td>1</td>\n      <td>1</td>\n      <td>4</td>\n      <td>1</td>\n      <td>7</td>\n      <td>20170101</td>\n      <td>1</td>\n    </tr>\n    <tr>\n      <th>...</th>\n      <td>...</td>\n      <td>...</td>\n      <td>...</td>\n      <td>...</td>\n      <td>...</td>\n      <td>...</td>\n      <td>...</td>\n      <td>...</td>\n      <td>...</td>\n      <td>...</td>\n      <td>...</td>\n    </tr>\n    <tr>\n      <th>155</th>\n      <td>155</td>\n      <td>2017-01-07 11:00:00</td>\n      <td>13.308467</td>\n      <td>2017</td>\n      <td>1</td>\n      <td>7</td>\n      <td>11</td>\n      <td>0</td>\n      <td>6</td>\n      <td>20170107</td>\n      <td>0</td>\n    </tr>\n    <tr>\n      <th>156</th>\n      <td>156</td>\n      <td>2017-01-07 12:00:00</td>\n      <td>19.686580</td>\n      <td>2017</td>\n      <td>1</td>\n      <td>7</td>\n      <td>12</td>\n      <td>0</td>\n      <td>6</td>\n      <td>20170107</td>\n      <td>0</td>\n    </tr>\n    <tr>\n      <th>157</th>\n      <td>157</td>\n      <td>2017-01-07 13:00:00</td>\n      <td>17.374724</td>\n      <td>2017</td>\n      <td>1</td>\n      <td>7</td>\n      <td>13</td>\n      <td>0</td>\n      <td>6</td>\n      <td>20170107</td>\n      <td>0</td>\n    </tr>\n    <tr>\n      <th>158</th>\n      <td>158</td>\n      <td>2017-01-07 14:00:00</td>\n      <td>26.702782</td>\n      <td>2017</td>\n      <td>1</td>\n      <td>7</td>\n      <td>14</td>\n      <td>0</td>\n      <td>6</td>\n      <td>20170107</td>\n      <td>0</td>\n    </tr>\n    <tr>\n      <th>159</th>\n      <td>159</td>\n      <td>2017-01-07 15:00:00</td>\n      <td>17.665740</td>\n      <td>2017</td>\n      <td>1</td>\n      <td>7</td>\n      <td>15</td>\n      <td>0</td>\n      <td>6</td>\n      <td>20170107</td>\n      <td>0</td>\n    </tr>\n  </tbody>\n</table>\n<p>160 rows × 11 columns</p>\n</div>"
     },
     "metadata": {},
     "execution_count": 69
    }
   ],
   "source": [
    "# 公共假期\n",
    "vacation = ['20170101','20170128','20170130','20170131','20170404','20170501','20170530','20170701','20171001','20171005',\n",
    "            '20171028','20171222','20171225','20180101','20180216','20180217','20180219','20180405','20180501','20180618',\n",
    "            '20180701','20180925','20181001','20181017','20181222','20181225' ]\n",
    "# 日期提取\n",
    "def extract_date(df,col):\n",
    "    df[\"year\"] = df[col].apply(lambda x: x.year)\n",
    "    df[\"month\"] = df[col].apply(lambda x: x.month)\n",
    "    df[\"day\"] = df[col].apply(lambda x: x.day)\n",
    "    df[\"hour\"] = df[col].apply(lambda x: x.hour)\n",
    "    df[\"is_sunday\"] = df[col].apply(lambda x : 1 if x.weekday() in [6] else 0)\n",
    "    df[\"dayofweek\"] = df[col].apply(lambda x : x.weekday()+1)\n",
    "    df[\"tmp\"] = df[col].apply(lambda x: x.strftime('%Y%m%d'))\n",
    "    df[\"is_holiday\"] = df[\"tmp\"].apply(lambda x: 1 if x in vacation else 0)\n",
    "    \n",
    "extract_date(TrainData,'date')\n",
    "TrainData.head(160)\n"
   ]
  },
  {
   "cell_type": "code",
   "execution_count": 70,
   "metadata": {},
   "outputs": [
    {
     "output_type": "execute_result",
     "data": {
      "text/plain": [
       "       speed  year  month  day  hour  is_sunday  dayofweek  is_holiday\n",
       "0  43.002930  2017      1    1     0          1          7           1\n",
       "1  46.118696  2017      1    1     1          1          7           1\n",
       "2  44.294158  2017      1    1     2          1          7           1\n",
       "3  41.067468  2017      1    1     3          1          7           1\n",
       "4  46.448653  2017      1    1     4          1          7           1"
      ],
      "text/html": "<div>\n<style scoped>\n    .dataframe tbody tr th:only-of-type {\n        vertical-align: middle;\n    }\n\n    .dataframe tbody tr th {\n        vertical-align: top;\n    }\n\n    .dataframe thead th {\n        text-align: right;\n    }\n</style>\n<table border=\"1\" class=\"dataframe\">\n  <thead>\n    <tr style=\"text-align: right;\">\n      <th></th>\n      <th>speed</th>\n      <th>year</th>\n      <th>month</th>\n      <th>day</th>\n      <th>hour</th>\n      <th>is_sunday</th>\n      <th>dayofweek</th>\n      <th>is_holiday</th>\n    </tr>\n  </thead>\n  <tbody>\n    <tr>\n      <th>0</th>\n      <td>43.002930</td>\n      <td>2017</td>\n      <td>1</td>\n      <td>1</td>\n      <td>0</td>\n      <td>1</td>\n      <td>7</td>\n      <td>1</td>\n    </tr>\n    <tr>\n      <th>1</th>\n      <td>46.118696</td>\n      <td>2017</td>\n      <td>1</td>\n      <td>1</td>\n      <td>1</td>\n      <td>1</td>\n      <td>7</td>\n      <td>1</td>\n    </tr>\n    <tr>\n      <th>2</th>\n      <td>44.294158</td>\n      <td>2017</td>\n      <td>1</td>\n      <td>1</td>\n      <td>2</td>\n      <td>1</td>\n      <td>7</td>\n      <td>1</td>\n    </tr>\n    <tr>\n      <th>3</th>\n      <td>41.067468</td>\n      <td>2017</td>\n      <td>1</td>\n      <td>1</td>\n      <td>3</td>\n      <td>1</td>\n      <td>7</td>\n      <td>1</td>\n    </tr>\n    <tr>\n      <th>4</th>\n      <td>46.448653</td>\n      <td>2017</td>\n      <td>1</td>\n      <td>1</td>\n      <td>4</td>\n      <td>1</td>\n      <td>7</td>\n      <td>1</td>\n    </tr>\n  </tbody>\n</table>\n</div>"
     },
     "metadata": {},
     "execution_count": 70
    }
   ],
   "source": [
    "TrainData.drop(columns=[\"id\", \"date\",\"tmp\"], inplace=True)\n",
    "TrainData.head()"
   ]
  },
  {
   "cell_type": "code",
   "execution_count": 71,
   "metadata": {},
   "outputs": [
    {
     "output_type": "stream",
     "name": "stdout",
     "text": [
      "                id\ncount  3504.000000\nmean   1751.500000\nstd    1011.661999\nmin       0.000000\n25%     875.750000\n50%    1751.500000\n75%    2627.250000\nmax    3503.000000\n"
     ]
    },
    {
     "output_type": "execute_result",
     "data": {
      "text/plain": [
       "   year  month  day  hour  is_sunday  dayofweek  is_holiday\n",
       "0  2018      1    1     2          0          1           1\n",
       "1  2018      1    1     5          0          1           1\n",
       "2  2018      1    1     7          0          1           1\n",
       "3  2018      1    1     8          0          1           1\n",
       "4  2018      1    1    10          0          1           1"
      ],
      "text/html": "<div>\n<style scoped>\n    .dataframe tbody tr th:only-of-type {\n        vertical-align: middle;\n    }\n\n    .dataframe tbody tr th {\n        vertical-align: top;\n    }\n\n    .dataframe thead th {\n        text-align: right;\n    }\n</style>\n<table border=\"1\" class=\"dataframe\">\n  <thead>\n    <tr style=\"text-align: right;\">\n      <th></th>\n      <th>year</th>\n      <th>month</th>\n      <th>day</th>\n      <th>hour</th>\n      <th>is_sunday</th>\n      <th>dayofweek</th>\n      <th>is_holiday</th>\n    </tr>\n  </thead>\n  <tbody>\n    <tr>\n      <th>0</th>\n      <td>2018</td>\n      <td>1</td>\n      <td>1</td>\n      <td>2</td>\n      <td>0</td>\n      <td>1</td>\n      <td>1</td>\n    </tr>\n    <tr>\n      <th>1</th>\n      <td>2018</td>\n      <td>1</td>\n      <td>1</td>\n      <td>5</td>\n      <td>0</td>\n      <td>1</td>\n      <td>1</td>\n    </tr>\n    <tr>\n      <th>2</th>\n      <td>2018</td>\n      <td>1</td>\n      <td>1</td>\n      <td>7</td>\n      <td>0</td>\n      <td>1</td>\n      <td>1</td>\n    </tr>\n    <tr>\n      <th>3</th>\n      <td>2018</td>\n      <td>1</td>\n      <td>1</td>\n      <td>8</td>\n      <td>0</td>\n      <td>1</td>\n      <td>1</td>\n    </tr>\n    <tr>\n      <th>4</th>\n      <td>2018</td>\n      <td>1</td>\n      <td>1</td>\n      <td>10</td>\n      <td>0</td>\n      <td>1</td>\n      <td>1</td>\n    </tr>\n  </tbody>\n</table>\n</div>"
     },
     "metadata": {},
     "execution_count": 71
    }
   ],
   "source": [
    "#  test data Preprocess\n",
    "TestData = pd.read_csv('D:/.BDT/5001/msbd5001-fall2020/test.csv', parse_dates = ['date'], dayfirst= True)\n",
    "print(TestData.describe())\n",
    "extract_date(TestData,'date')\n",
    "TestData.drop(columns=[\"id\", \"date\",\"tmp\"], inplace=True)\n",
    "TestData.head()"
   ]
  },
  {
   "cell_type": "code",
   "execution_count": 72,
   "metadata": {},
   "outputs": [],
   "source": [
    "# Models\n",
    "from sklearn.ensemble import RandomForestRegressor, GradientBoostingRegressor, AdaBoostRegressor, BaggingRegressor, ExtraTreesRegressor\n",
    "from sklearn.kernel_ridge import KernelRidge\n",
    "from sklearn.linear_model import LinearRegression,SGDRegressor\n",
    "from sklearn.linear_model import Ridge, RidgeCV, Lasso\n",
    "from sklearn.linear_model import ElasticNet, ElasticNetCV\n",
    "from sklearn.svm import SVR\n",
    "from mlxtend.regressor import StackingCVRegressor\n",
    "import lightgbm as lgb\n",
    "from lightgbm import LGBMRegressor\n",
    "from xgboost import XGBRegressor\n",
    "\n",
    "\n",
    "from sklearn.model_selection import GridSearchCV\n",
    "from sklearn.model_selection import KFold, cross_val_score\n",
    "from sklearn.metrics import mean_squared_error\n",
    "from sklearn.preprocessing import OneHotEncoder\n",
    "from sklearn.preprocessing import LabelEncoder\n",
    "from sklearn import metrics"
   ]
  },
  {
   "cell_type": "code",
   "execution_count": 73,
   "metadata": {},
   "outputs": [],
   "source": [
    "X_train = TrainData.drop(columns=[\"speed\"])\n",
    "Y_train = TrainData[\"speed\"]\n",
    "X_test = TestData"
   ]
  },
  {
   "cell_type": "code",
   "execution_count": 74,
   "metadata": {},
   "outputs": [
    {
     "output_type": "stream",
     "name": "stdout",
     "text": [
      "Mean Squared Error: 9.896843299768069\n"
     ]
    }
   ],
   "source": [
    "# XGBRegressor\n",
    "other_params = {'learning_rate': 0.1, 'n_estimators': 50, 'max_depth': 4, 'min_child_weight': 1, 'seed': 0,\n",
    "                    'subsample': 0.8, 'colsample_bytree': 0.8, 'gamma': 0.5, 'reg_alpha': 3, 'reg_lambda': 3}\n",
    "# xgb = XGBRegressor(**other_params)\n",
    "xgb = XGBRegressor(n_estimators=40,n_jobs=-1)\n",
    "xgb.fit(X_train, Y_train)\n",
    "y_pred_train = xgb.predict(X_train)\n",
    "\n",
    "# 评估回归性能\n",
    "print('Mean Squared Error:', metrics.mean_squared_error(Y_train, y_pred_train))"
   ]
  },
  {
   "cell_type": "code",
   "execution_count": 75,
   "metadata": {},
   "outputs": [],
   "source": [
    "from pandas.core.frame import DataFrame\n",
    "\n",
    "y_pred_test = xgb.predict(X_test)\n",
    "submit = {\"speed\": y_pred_test}\n",
    "submit_data = DataFrame(submit)\n",
    "# submit_data[\"speed\"].to_list()\n",
    "submit_data.to_csv(\"hjq5.csv\", index_label=\"id\")"
   ]
  },
  {
   "cell_type": "code",
   "execution_count": 19,
   "metadata": {},
   "outputs": [],
   "source": []
  },
  {
   "cell_type": "code",
   "execution_count": null,
   "metadata": {},
   "outputs": [],
   "source": []
  }
 ],
 "metadata": {
  "kernelspec": {
   "display_name": "Python 3",
   "language": "python",
   "name": "python3"
  },
  "language_info": {
   "codemirror_mode": {
    "name": "ipython",
    "version": 3
   },
   "file_extension": ".py",
   "mimetype": "text/x-python",
   "name": "python",
   "nbconvert_exporter": "python",
   "pygments_lexer": "ipython3",
   "version": "3.8.3-final"
  }
 },
 "nbformat": 4,
 "nbformat_minor": 4
}